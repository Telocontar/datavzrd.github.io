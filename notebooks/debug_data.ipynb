{
 "cells": [
  {
   "cell_type": "code",
   "execution_count": 1,
   "id": "fde1c82c-ba3a-41ba-be01-5fb75ce21792",
   "metadata": {},
   "outputs": [],
   "source": [
    "import pandas as pd"
   ]
  },
  {
   "cell_type": "code",
   "execution_count": null,
   "id": "a36f3f53-bff7-4626-bc0f-8c75d8618246",
   "metadata": {},
   "outputs": [],
   "source": []
  },
  {
   "cell_type": "code",
   "execution_count": 13,
   "id": "d2c79124-9c23-403e-b049-45f4706a77e1",
   "metadata": {},
   "outputs": [],
   "source": [
    "data_df = pd.read_csv(\"../data/perimyo_combined.csv\")"
   ]
  },
  {
   "cell_type": "code",
   "execution_count": 14,
   "id": "795c3e65-2831-47a4-8794-ce9f5629f7c4",
   "metadata": {},
   "outputs": [],
   "source": [
    "data_df = data_df.dropna(how=\"all\", axis=1)"
   ]
  },
  {
   "cell_type": "code",
   "execution_count": 16,
   "id": "32bc2d7a-b4db-4319-a66d-4cb827f31a04",
   "metadata": {},
   "outputs": [],
   "source": [
    "data_df.to_csv(\"../data/perimyo_combined.csv\", index=False)"
   ]
  },
  {
   "cell_type": "code",
   "execution_count": null,
   "id": "70ecfb12-bca2-4e60-904f-e0be9fb05a83",
   "metadata": {},
   "outputs": [],
   "source": []
  },
  {
   "cell_type": "code",
   "execution_count": null,
   "id": "eddaa674-50f8-4fb1-8859-e2288be220e5",
   "metadata": {},
   "outputs": [],
   "source": []
  }
 ],
 "metadata": {
  "kernelspec": {
   "display_name": "Python 3 (ipykernel)",
   "language": "python",
   "name": "python3"
  },
  "language_info": {
   "codemirror_mode": {
    "name": "ipython",
    "version": 3
   },
   "file_extension": ".py",
   "mimetype": "text/x-python",
   "name": "python",
   "nbconvert_exporter": "python",
   "pygments_lexer": "ipython3",
   "version": "3.13.5"
  }
 },
 "nbformat": 4,
 "nbformat_minor": 5
}
